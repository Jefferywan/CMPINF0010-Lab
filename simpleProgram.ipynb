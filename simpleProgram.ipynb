{
 "cells": [
  {
   "cell_type": "markdown",
   "id": "d73b75ec-4d9d-4a39-8356-49d9ca2ec8b1",
   "metadata": {},
   "source": [
    "1. Takes a name input:\n",
    "2. It taks some other input:\n",
    "3. I does Something with this other input"
   ]
  },
  {
   "cell_type": "code",
   "execution_count": 7,
   "id": "6db6c581-be9e-4ef0-aa62-6741f3c38159",
   "metadata": {},
   "outputs": [
    {
     "name": "stdin",
     "output_type": "stream",
     "text": [
      "Please give me your name:\n",
      " 123\n",
      "If you want to print it -> type in 1;\n",
      "If you want do nothing -> type in 2\n",
      " 1\n"
     ]
    },
    {
     "name": "stdout",
     "output_type": "stream",
     "text": [
      "Your name is: 123\n"
     ]
    }
   ],
   "source": [
    "userInput = input(\"Please give me your name:\\n\")\n",
    "userChoice = input(\"If you want to print it -> type in 1;\\nIf you want do nothing -> type in 2\\n\")\n",
    "if(userChoice == \"1\"):\n",
    "    print(\"Your name is: \"+ userInput)\n",
    "else:\n",
    "    print(\"Do nothing!\")"
   ]
  },
  {
   "cell_type": "code",
   "execution_count": null,
   "id": "3b734b0c-5ad1-46f5-bdd4-b8cf2009a44e",
   "metadata": {},
   "outputs": [],
   "source": []
  }
 ],
 "metadata": {
  "kernelspec": {
   "display_name": "Python 3 (ipykernel)",
   "language": "python",
   "name": "python3"
  },
  "language_info": {
   "codemirror_mode": {
    "name": "ipython",
    "version": 3
   },
   "file_extension": ".py",
   "mimetype": "text/x-python",
   "name": "python",
   "nbconvert_exporter": "python",
   "pygments_lexer": "ipython3",
   "version": "3.10.6"
  }
 },
 "nbformat": 4,
 "nbformat_minor": 5
}
